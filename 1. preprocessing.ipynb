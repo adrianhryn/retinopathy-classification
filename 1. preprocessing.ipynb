{
 "cells": [
  {
   "cell_type": "code",
   "execution_count": 1,
   "metadata": {},
   "outputs": [
    {
     "name": "stderr",
     "output_type": "stream",
     "text": [
      "Using TensorFlow backend.\n"
     ]
    }
   ],
   "source": [
    "import pandas as pd\n",
    "import numpy as np\n",
    "import cv2\n",
    "from keras.preprocessing import image\n",
    "import os\n",
    "import matplotlib.pyplot as plt\n",
    "import seaborn as sns"
   ]
  },
  {
   "cell_type": "code",
   "execution_count": 2,
   "metadata": {},
   "outputs": [],
   "source": [
    "images_directory = \"data/resized_train_cropped/resized_train_cropped\"\n",
    "\n",
    "df_labels = pd.read_csv('data/trainLabels_cropped.csv')\n",
    "images_names = sorted(df_labels.image.values) "
   ]
  },
  {
   "cell_type": "markdown",
   "metadata": {},
   "source": [
    "#### We have a huge skewness in distribition of the classes"
   ]
  },
  {
   "cell_type": "code",
   "execution_count": 3,
   "metadata": {},
   "outputs": [
    {
     "data": {
      "image/png": "[encoded data removed]",
      "text/plain": [
       "<Figure size 432x288 with 1 Axes>"
      ]
     },
     "metadata": {},
     "output_type": "display_data"
    }
   ],
   "source": [
    "ys = df_labels.level.value_counts().values\n",
    "xs = df_labels.level.value_counts().index\n",
    "plt.rcParams[\"axes.labelsize\"] = 12\n",
    "fig = sns.barplot(x=xs, y=ys)\n",
    "fig.set(xlabel='Severity level', ylabel='Number of observation', title=\"Distribution of classes\")\n",
    "plt.show()"
   ]
  },
  {
   "cell_type": "markdown",
   "metadata": {},
   "source": [
    "#### We decided to cut our our data.\n",
    "In each class there will be n observation. n is equal to the number of images in the smaller class"
   ]
  },
  {
   "cell_type": "code",
   "execution_count": 4,
   "metadata": {},
   "outputs": [],
   "source": [
    "def stop_on_level(labels, level, number_in_smaller_class):\n",
    "    first_n_indexes = []\n",
    "    for ind, img_level in enumerate(labels):\n",
    "        if len(first_n_indexes) == number_in_smaller_class:\n",
    "            return first_n_indexes\n",
    "        \n",
    "        if img_level == level:\n",
    "            first_n_indexes.append(ind)\n",
    "\n",
    "def get_appropriate_indexes(classes=[0, 1, 2, 3, 4]):\n",
    "    number_in_smaller_class = min(df_labels.level.value_counts()) \n",
    "    indexes = []\n",
    "    for separate_level in classes:\n",
    "        indexes_for_level = stop_on_level(labels=labels, level=separate_level,\n",
    "                                      number_in_smaller_class=number_in_smaller_class)\n",
    "        indexes += indexes_for_level\n",
    "    return indexes"
   ]
  },
  {
   "cell_type": "code",
   "execution_count": 5,
   "metadata": {},
   "outputs": [],
   "source": [
    "labels = [df_labels[df_labels['image'] == image_name].level.values[0] for image_name in images_names]\n",
    "indexes = get_appropriate_indexes()"
   ]
  },
  {
   "cell_type": "code",
   "execution_count": 6,
   "metadata": {},
   "outputs": [],
   "source": [
    "images_names = [images_names[i] for i in indexes]"
   ]
  },
  {
   "cell_type": "markdown",
   "metadata": {},
   "source": [
    "### Preprocessing functions"
   ]
  },
  {
   "cell_type": "code",
   "execution_count": 7,
   "metadata": {},
   "outputs": [],
   "source": [
    "def show_image(img):\n",
    "    img = cv2.cvtColor(img, cv2.COLOR_BGR2RGB)\n",
    "    plt.imshow(img)\n",
    "    \n",
    "def get_severity(image_name):\n",
    "    \"\"\"\n",
    "    Finds an appropriate observatiion by image name. Returns its image severity\n",
    "    \"\"\"\n",
    "    return df_labels[df_labels['image'] == image_name].level.values[0]\n",
    "\n",
    "def create_multilabels(severity):\n",
    "    \"\"\"\n",
    "    Create a multilabel from severity level.\n",
    "    severity: 0 -> multilabel: [1, 0, 0, 0, 0]\n",
    "    severity: 1 -> multilabel: [1, 1, 0, 0, 0]\n",
    "    ...\n",
    "    severity: 4 -> multilabel: [1, 1, 1, 1, 1]\n",
    "    \"\"\"\n",
    "    multi_label = [0, 0, 0, 0, 0]\n",
    "    for i in range(severity+1):\n",
    "        multi_label[i] = 1\n",
    "    return multi_label\n",
    "\n",
    "def get_image_array(path_to_image):\n",
    "    \"\"\"\n",
    "    Return an resised array of an image.\n",
    "    \"\"\"\n",
    "    image = cv2.imread(path_to_image)\n",
    "    return image \n",
    "    \n",
    "def get_images_and_labels():\n",
    "    \"\"\"\n",
    "    Goes through all sorted images names. Return 3 arrays: images, labels and multilabels.\n",
    "    Order of those 3 is the same, because images_names is sorted,\n",
    "    so images[0], labels[0] and multi_labels[0] represent the same image\n",
    "    \"\"\"\n",
    "    images = []\n",
    "    labels = []\n",
    "    multi_labels = []\n",
    "    for filename in images_names:\n",
    "        image_name = filename\n",
    "        filename = filename + \".jpeg\"\n",
    "        path_to_img = os.path.join(images_directory, filename)\n",
    "        \n",
    "        image = get_image_array(path_to_img)\n",
    "        images.append(image)\n",
    "        \n",
    "        label = get_severity(image_name)\n",
    "        labels.append(label)\n",
    "        \n",
    "        multi_label = create_multilabels(label)\n",
    "        multi_labels.append(multi_label)\n",
    "        \n",
    "    return np.array(images), np.array(labels), np.array(multi_labels)"
   ]
  },
  {
   "cell_type": "code",
   "execution_count": 8,
   "metadata": {},
   "outputs": [],
   "source": [
    "images, labels, multi_labels = get_images_and_labels()"
   ]
  },
  {
   "cell_type": "code",
   "execution_count": 10,
   "metadata": {},
   "outputs": [],
   "source": [
    "np.save(\"data/npy_files/images_arrays.npy\", images)\n",
    "np.save(\"data/npy_files/labels.npy\", labels)\n",
    "np.save(\"data/npy_files/multi_labels.npy\", multi_labels)"
   ]
  },
  {
   "cell_type": "code",
   "execution_count": null,
   "metadata": {},
   "outputs": [],
   "source": []
  }
 ],
 "metadata": {
  "kernelspec": {
   "display_name": "Environment (conda_tensorflow2_p36)",
   "language": "python",
   "name": "conda_tensorflow2_p36"
  },
  "language_info": {
   "codemirror_mode": {
    "name": "ipython",
    "version": 3
   },
   "file_extension": ".py",
   "mimetype": "text/x-python",
   "name": "python",
   "nbconvert_exporter": "python",
   "pygments_lexer": "ipython3",
   "version": "3.6.5"
  }
 },
 "nbformat": 4,
 "nbformat_minor": 2
}
